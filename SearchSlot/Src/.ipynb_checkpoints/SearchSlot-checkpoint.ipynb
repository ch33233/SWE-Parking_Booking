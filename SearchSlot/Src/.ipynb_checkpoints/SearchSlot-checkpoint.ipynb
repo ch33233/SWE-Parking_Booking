{
 "cells": [
  {
   "cell_type": "markdown",
   "metadata": {},
   "source": [
    "## Define Class"
   ]
  },
  {
   "cell_type": "code",
   "execution_count": 4,
   "metadata": {},
   "outputs": [],
   "source": [
    "class Time:\n",
    "    def __init__(self, date, hour, renthour):\n",
    "        self.date = date\n",
    "        self.hour = hour\n",
    "        self.renthour = renthour\n",
    "\n",
    "class Slot:\n",
    "    def __init__(self, location, timestamp):\n",
    "        self.location = location\n",
    "        self.timestamp = timestamp\n",
    "\n",
    "class VirtualReservation:\n",
    "    def __init__(self, location, date, time):\n",
    "        self.location = location\n",
    "        self.date = date\n",
    "        self.time = time\n",
    "        \n",
    "class DatabaseConnection:\n",
    "    def SearchTimeQuery(customer, time):\n",
    "        start = float(time.hour)\n",
    "        end = start + time.renthour\n",
    "        empty_slot = []\n",
    "        for cur in customer:\n",
    "            if time.date == cur.date:\n",
    "                if cur.time[1] < start:\n",
    "                    empty_slot.append(cur.location)\n",
    "                elif cur.location in empty_slot:\n",
    "                    empty_slot.remove(cur.location)\n",
    "        return empty_slot"
   ]
  },
  {
   "cell_type": "code",
   "execution_count": 3,
   "metadata": {},
   "outputs": [],
   "source": [
    "# ==== Make a virtual Database ====\n",
    "customer = [0 for _ in range(7)]\n",
    "customer[0] = VirtualReservation(1, \"21.06.01\", (16.15,20.15))\n",
    "customer[1] = VirtualReservation(3, \"21.06.01\", (15.00,18.00))\n",
    "customer[2] = VirtualReservation(5, \"21.06.01\", (17.00,19.00))\n",
    "customer[3] = VirtualReservation(6, \"21.06.01\", (18.00,19.00))\n",
    "customer[4] = VirtualReservation(8, \"21.06.01\", (14.00,19.00))\n",
    "customer[5] = VirtualReservation(9, \"21.06.01\", (17.00,21.00))\n",
    "customer[6] = VirtualReservation(10, \"21.06.01\", (15.30,19.30))\n",
    "\n",
    "date = input(\"Input date: \")\n",
    "time = input(\"Input time: \")\n",
    "hour = input(\"Input rent hour: \")\n",
    "\n",
    "NewTime = Time(date, time, hour)\n",
    "\n"
   ]
  }
 ],
 "metadata": {
  "kernelspec": {
   "display_name": "Python 3",
   "language": "python",
   "name": "python3"
  },
  "language_info": {
   "codemirror_mode": {
    "name": "ipython",
    "version": 3
   },
   "file_extension": ".py",
   "mimetype": "text/x-python",
   "name": "python",
   "nbconvert_exporter": "python",
   "pygments_lexer": "ipython3",
   "version": "3.8.5"
  }
 },
 "nbformat": 4,
 "nbformat_minor": 4
}
