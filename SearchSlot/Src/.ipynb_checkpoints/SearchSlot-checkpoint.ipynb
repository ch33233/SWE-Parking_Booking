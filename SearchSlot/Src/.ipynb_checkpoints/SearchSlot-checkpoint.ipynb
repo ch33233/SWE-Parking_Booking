{
 "cells": [
  {
   "cell_type": "markdown",
   "metadata": {},
   "source": [
    "## Define Class"
   ]
  },
  {
   "cell_type": "code",
   "execution_count": 17,
   "metadata": {},
   "outputs": [],
   "source": [
    "import matplotlib.pyplot as plt\n",
    "import matplotlib.patches as patches"
   ]
  },
  {
   "cell_type": "code",
   "execution_count": 30,
   "metadata": {},
   "outputs": [],
   "source": [
    "class Time:\n",
    "    def __init__(self, date, hour, renthour):\n",
    "        self.date = date\n",
    "        self.hour = hour\n",
    "        self.renthour = renthour\n",
    "\n",
    "class Slot:\n",
    "    def __init__(self, location, timestamp):\n",
    "        self.location = location\n",
    "        self.timestamp = timestamp\n",
    "\n",
    "class VirtualReservation:\n",
    "    def __init__(self, location, date, time):\n",
    "        self.location = location\n",
    "        self.date = date\n",
    "        self.time = time\n",
    "        \n",
    "class DatabaseConnection:\n",
    "    def SearchTimeQuery(self, customer, time, NumSlot):\n",
    "        start = float(time.hour)\n",
    "        end = start + float(time.renthour)\n",
    "        empty_slot = [i for i in range(1,NumSlot+1)]\n",
    "        for cur in customer:\n",
    "            if time.date == cur.date: # there are three invalidate cases.\n",
    "                if cur.time[0] >= start and cur.time[0] < end and cur.location in empty_slot:\n",
    "                    empty_slot.remove(cur.location)\n",
    "                if cur.time[1] > start and cur.time[1] <= end and cur.location in empty_slot:\n",
    "                    empty_slot.remove(cur.location)\n",
    "                if cur.time[0] <= start and cur.time[1] >= end and cur.location in empty_slot:\n",
    "                    empty_slot.remove(cur.location)\n",
    "        return empty_slot\n",
    "\n",
    "class InsideMaker:\n",
    "    def Rendering(self, slot, NumSlot):\n",
    "        fig, ax = plt.subplots()\n",
    "        plt.title(\"Inside Map\")\n",
    "        \n",
    "        for i in range(NumSlot):\n",
    "            row = i%4\n",
    "            col = i//4\n",
    "            ax.add_patch(\n",
    "                 patches.Rectangle(\n",
    "                    (1+3*row, 5-2*col),\n",
    "                    2,\n",
    "                    1,\n",
    "                    edgecolor = 'black',\n",
    "                    facecolor = slot[i].timestamp,\n",
    "                    fill=True\n",
    "                 ) )\n",
    "            plt.text(1.5+3*row, 5.5-2*col, \"Slot {0}\".format(i+1), fontsize=10)\n",
    "            \n",
    "        plt.xlim([0,12])\n",
    "        plt.ylim([0,6])\n",
    "        ax.axis('off')\n",
    "        plt.show()"
   ]
  },
  {
   "cell_type": "markdown",
   "metadata": {},
   "source": [
    "## Controller"
   ]
  },
  {
   "cell_type": "code",
   "execution_count": 31,
   "metadata": {},
   "outputs": [
    {
     "name": "stdout",
     "output_type": "stream",
     "text": [
      "Input date: 21.06.01\n",
      "Input time: 18.15\n",
      "Input rent hour: 4\n"
     ]
    },
    {
     "data": {
      "image/png": "[encoded data removed]",
      "text/plain": [
       "<Figure size 432x288 with 1 Axes>"
      ]
     },
     "metadata": {
      "needs_background": "light"
     },
     "output_type": "display_data"
    }
   ],
   "source": [
    "# ==== Make a virtual Database ====\n",
    "customer = [0 for _ in range(7)]\n",
    "customer[0] = VirtualReservation(1, \"21.06.01\", (16.15,20.15))\n",
    "customer[1] = VirtualReservation(3, \"21.06.01\", (15.00,18.00))\n",
    "customer[2] = VirtualReservation(5, \"21.06.01\", (17.00,19.00))\n",
    "customer[3] = VirtualReservation(3, \"21.06.01\", (18.30,19.00))\n",
    "customer[4] = VirtualReservation(8, \"21.06.01\", (14.00,19.00))\n",
    "customer[5] = VirtualReservation(9, \"21.06.01\", (17.00,21.00))\n",
    "customer[6] = VirtualReservation(10, \"21.06.01\", (15.30,19.30))\n",
    "# ==== Number of Slot in parking lot from virtual DB ====\n",
    "NumSlot = 12\n",
    "# =======================================================\n",
    "date = input(\"Input date: \")\n",
    "time = input(\"Input time: \")\n",
    "hour = input(\"Input rent hour: \")\n",
    "# ==== Suppose that verified this time in Use Case 1 ====\n",
    "NewTime = Time(date, time, hour)\n",
    "\n",
    "DB = DatabaseConnection()\n",
    "EmptySlot = DB.SearchTimeQuery(customer, NewTime, NumSlot)\n",
    "\n",
    "slot = []\n",
    "for i in range(1,NumSlot+1):\n",
    "    if i in EmptySlot:\n",
    "        slot.append(Slot(i,'green'))\n",
    "    else:\n",
    "        slot.append(Slot(i,'red'))\n",
    "\n",
    "ShowWindow = InsideMaker()\n",
    "ShowWindow.Rendering(slot,NumSlot)"
   ]
  },
  {
   "cell_type": "code",
   "execution_count": null,
   "metadata": {},
   "outputs": [],
   "source": []
  }
 ],
 "metadata": {
  "kernelspec": {
   "display_name": "Python 3",
   "language": "python",
   "name": "python3"
  },
  "language_info": {
   "codemirror_mode": {
    "name": "ipython",
    "version": 3
   },
   "file_extension": ".py",
   "mimetype": "text/x-python",
   "name": "python",
   "nbconvert_exporter": "python",
   "pygments_lexer": "ipython3",
   "version": "3.8.5"
  }
 },
 "nbformat": 4,
 "nbformat_minor": 4
}
